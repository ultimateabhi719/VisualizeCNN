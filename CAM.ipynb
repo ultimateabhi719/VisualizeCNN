{
 "cells": [
  {
   "cell_type": "code",
   "execution_count": 1,
   "id": "5b228dc3-86b8-4772-bd32-70c0ee363e44",
   "metadata": {
    "colab": {},
    "colab_type": "code",
    "id": "jZmo6jbkzPbg",
    "tags": []
   },
   "outputs": [],
   "source": [
    "import numpy as np\n",
    "\n",
    "import torch\n",
    "import torch.nn.functional as F\n",
    "import torchvision\n",
    "import  torchvision.transforms as transforms\n",
    "\n",
    "from PIL import Image\n",
    "import cv2\n",
    "\n",
    "from transformers import ResNetForImageClassification\n"
   ]
  },
  {
   "cell_type": "code",
   "execution_count": 2,
   "id": "ef10c910-7d88-4e51-943f-530cd3ce5ade",
   "metadata": {
    "colab": {
     "base_uri": "https://localhost:8080/",
     "height": 1000
    },
    "colab_type": "code",
    "id": "-WsN9PsezS4t",
    "outputId": "763d8578-a4ee-4a9a-d756-dd9354f1e361",
    "scrolled": true,
    "tags": []
   },
   "outputs": [],
   "source": [
    "#load pretrained resnet model\n",
    "model = ResNetForImageClassification.from_pretrained(\"microsoft/resnet-50\")\n",
    "\n",
    "#define transforms to preprocess input image into format expected by model\n",
    "normalize = transforms.Normalize(mean=[0.485, 0.456, 0.406],\n",
    "                                     std=[0.229, 0.224, 0.225])\n",
    "#inverse transform to get normalize image back to original form for visualization\n",
    "inv_normalize = transforms.Normalize(\n",
    "    mean=[-0.485/0.229, -0.456/0.224, -0.406/0.255],\n",
    "    std=[1/0.229, 1/0.224, 1/0.255]\n",
    ")\n",
    "\n",
    "#transforms to resize image to the size expected by pretrained model,\n",
    "#convert PIL image to tensor, and\n",
    "#normalize the image\n",
    "transform = transforms.Compose([\n",
    "    transforms.Resize((224, 224)),\n",
    "    transforms.ToTensor(),\n",
    "    normalize,          \n",
    "])"
   ]
  },
  {
   "cell_type": "code",
   "execution_count": 3,
   "id": "ba3686e5-28ce-4bf8-aafe-03a15e80f527",
   "metadata": {
    "tags": []
   },
   "outputs": [],
   "source": [
    "readImg = 'images/eagle.jpeg'\n",
    "# readImg = 'images/IndianElephant.jpg'\n",
    "# readImg = 'images/Elephas_maximus.jpg'\n",
    "img0 = Image.open(readImg).convert(\"RGB\")"
   ]
  },
  {
   "cell_type": "markdown",
   "id": "177f1cfe-00e9-488e-84e8-fab965b27c16",
   "metadata": {
    "tags": []
   },
   "source": [
    "# CAM"
   ]
  },
  {
   "cell_type": "code",
   "execution_count": null,
   "id": "6981a2f9-8067-4b1e-b218-354491baf2d6",
   "metadata": {
    "tags": []
   },
   "outputs": [],
   "source": [
    "activation = {}\n",
    "def getActivation(name):\n",
    "    # the hook signature\n",
    "    def hook(module, input, output):\n",
    "        activation[name] = output.detach().cpu().numpy()\n",
    "    return hook"
   ]
  },
  {
   "cell_type": "code",
   "execution_count": null,
   "id": "87478420-efc9-4f6a-8efa-68746bc132d8",
   "metadata": {
    "tags": []
   },
   "outputs": [],
   "source": [
    "model.resnet.encoder.stages[-1].register_forward_hook(getActivation('last_stage'))"
   ]
  },
  {
   "cell_type": "code",
   "execution_count": null,
   "id": "20b783e2-b7e4-4f8b-8cbb-2fb4651b0a8f",
   "metadata": {
    "tags": []
   },
   "outputs": [],
   "source": [
    "params = list(model.classifier[1].parameters())\n",
    "\n",
    "weight = np.squeeze(params[0].data.numpy())\n"
   ]
  },
  {
   "cell_type": "code",
   "execution_count": null,
   "id": "cfe438b6-b97a-4124-b44a-b1cda3f512dc",
   "metadata": {
    "tags": []
   },
   "outputs": [],
   "source": [
    "def return_CAM(feature_conv, weight, class_idx):\n",
    "    # generate the class -activation maps upsample to 256x256\n",
    "    size_upsample = (256, 256)\n",
    "    bz, nc, h, w = feature_conv.shape\n",
    "    output_cam = []\n",
    "    for idx in class_idx:\n",
    "        beforeDot =  feature_conv.reshape((nc, h*w))\n",
    "        cam = np.matmul(weight[idx], beforeDot)\n",
    "        cam = cam.reshape(h, w)\n",
    "        cam = cam - np.min(cam)\n",
    "        cam_img = cam / np.max(cam)\n",
    "        cam_img = np.uint8(255 * cam_img)\n",
    "        output_cam.append(cv2.resize(cam_img, size_upsample))\n",
    "    return output_cam"
   ]
  },
  {
   "cell_type": "code",
   "execution_count": null,
   "id": "7e8809c8-9a8e-4f9b-a1fa-d794f132c361",
   "metadata": {
    "tags": []
   },
   "outputs": [],
   "source": [
    "model.eval()\n",
    "logit = model(transform(img0).unsqueeze(0)).logits"
   ]
  },
  {
   "cell_type": "code",
   "execution_count": null,
   "id": "d98f71b1-12c1-4c8a-b963-4a8284872563",
   "metadata": {
    "tags": []
   },
   "outputs": [],
   "source": [
    "h_x = F.softmax(logit, dim=1).data.squeeze()\n",
    "\n",
    "probs, idx = h_x.sort(0, True)\n",
    "probs = probs.detach().numpy()\n",
    "idx = idx.numpy()"
   ]
  },
  {
   "cell_type": "code",
   "execution_count": null,
   "id": "701902cd-dd5d-43db-bad5-7d8e0e4946e7",
   "metadata": {
    "tags": []
   },
   "outputs": [],
   "source": [
    "CAMs = return_CAM(activation['last_stage'], weight, [idx[0]])"
   ]
  },
  {
   "cell_type": "code",
   "execution_count": null,
   "id": "24b3bbc6-42fc-42ad-915b-8f0d04aff078",
   "metadata": {
    "tags": []
   },
   "outputs": [],
   "source": [
    "img = cv2.imread(readImg)\n",
    "height, width, _ = img.shape\n",
    "heatmap = cv2.applyColorMap(cv2.resize(CAMs[0],(width, height)), cv2.COLORMAP_JET)\n",
    "result = heatmap * 0.5 + img * 0.5\n",
    "\n",
    "cv2.imwrite(\"image_1.jpg\", result)"
   ]
  },
  {
   "cell_type": "code",
   "execution_count": null,
   "id": "74ad25b8-aa8d-4792-9ad2-3abb2416d683",
   "metadata": {
    "tags": []
   },
   "outputs": [],
   "source": [
    "model.config.id2label[idx[0]]"
   ]
  },
  {
   "cell_type": "markdown",
   "id": "94d4f69e-561b-420a-ac3c-eb81f522349c",
   "metadata": {},
   "source": [
    "# Grad-CAM"
   ]
  },
  {
   "cell_type": "code",
   "execution_count": 4,
   "id": "6b272125-a29a-475d-be6a-0af3c5d0f99f",
   "metadata": {
    "tags": []
   },
   "outputs": [],
   "source": [
    "# defines two global scope variables to store our gradients and activations\n",
    "gradients = {}\n",
    "activations = {}\n",
    "\n",
    "def getGradients(name):\n",
    "    def backward_hook(module, grad_input, grad_output):\n",
    "        gradients[name] = grad_output\n",
    "    return backward_hook\n",
    "\n",
    "def getActivations(name):\n",
    "    def forward_hook(module, args, output):\n",
    "        activations[name] = output\n",
    "    return forward_hook"
   ]
  },
  {
   "cell_type": "code",
   "execution_count": 5,
   "id": "19371e58-c291-4339-bbb0-5c1819124254",
   "metadata": {
    "tags": []
   },
   "outputs": [],
   "source": [
    "backward_hook = model.resnet.encoder.stages[-1].layers[-1].register_backward_hook(getGradients('lastLayer'))\n",
    "forward_hook = model.resnet.encoder.stages[-1].layers[-1].register_forward_hook(getActivations('lastLayer'))"
   ]
  },
  {
   "cell_type": "code",
   "execution_count": 6,
   "id": "7ea6f78a-b431-42a2-9aa4-07fe8338ec78",
   "metadata": {
    "tags": []
   },
   "outputs": [
    {
     "name": "stderr",
     "output_type": "stream",
     "text": [
      "/home/administrator/.local/lib/python3.7/site-packages/torch/nn/modules/module.py:1117: UserWarning: Using a non-full backward hook when the forward contains multiple autograd Nodes is deprecated and will be removed in future versions. This hook will be missing some grad_input. Please use register_full_backward_hook to get the documented behavior.\n",
      "  warnings.warn(\"Using a non-full backward hook when the forward contains multiple autograd Nodes \"\n"
     ]
    }
   ],
   "source": [
    "model.eval()\n",
    "logit = model(transform(img0).unsqueeze(0)).logits"
   ]
  },
  {
   "cell_type": "code",
   "execution_count": 7,
   "id": "e3b2c6e7-b27d-4b52-9f4d-45af1ecc1f3a",
   "metadata": {
    "tags": []
   },
   "outputs": [
    {
     "data": {
      "text/plain": [
       "'kite'"
      ]
     },
     "execution_count": 7,
     "metadata": {},
     "output_type": "execute_result"
    }
   ],
   "source": [
    "h_x = F.softmax(logit, dim=1).data.squeeze()\n",
    "\n",
    "probs, idx = h_x.sort(0, True)\n",
    "probs = probs.detach().numpy()\n",
    "idx = idx.numpy()\n",
    "model.config.id2label[idx[0]]"
   ]
  },
  {
   "cell_type": "code",
   "execution_count": 8,
   "id": "78682268-6b71-473b-9b67-742231905288",
   "metadata": {
    "tags": []
   },
   "outputs": [],
   "source": [
    "logit[0,idx[0]].backward()"
   ]
  },
  {
   "cell_type": "code",
   "execution_count": 9,
   "id": "5024f091-8b73-45ac-b70f-af3de5daae4b",
   "metadata": {
    "tags": []
   },
   "outputs": [],
   "source": [
    "# pool the gradients across the channels\n",
    "pooled_gradients = torch.mean(gradients['lastLayer'][0], dim=[0, 2, 3])\n"
   ]
  },
  {
   "cell_type": "code",
   "execution_count": 10,
   "id": "df277a7f-d5b3-4712-b8d6-f4b2daf3c001",
   "metadata": {
    "tags": []
   },
   "outputs": [
    {
     "data": {
      "text/plain": [
       "<matplotlib.image.AxesImage at 0x7f20a7bfab50>"
      ]
     },
     "execution_count": 10,
     "metadata": {},
     "output_type": "execute_result"
    },
    {
     "data": {
      "image/png": "[encoded data removed]",
      "text/plain": [
       "<Figure size 480x480 with 1 Axes>"
      ]
     },
     "metadata": {},
     "output_type": "display_data"
    }
   ],
   "source": [
    "import torch.nn.functional as F\n",
    "import matplotlib.pyplot as plt\n",
    "\n",
    "# weight the channels by corresponding gradients\n",
    "for i in range(activations['lastLayer'].size()[1]):\n",
    "    activations['lastLayer'][:, i, :, :] *= pooled_gradients[i]\n",
    "\n",
    "# average the channels of the activations\n",
    "heatmap = torch.mean(activations['lastLayer'], dim=1).squeeze()\n",
    "\n",
    "# relu on top of the heatmap\n",
    "heatmap = F.relu(heatmap).detach().cpu().numpy()\n",
    "\n",
    "# normalize the heatmap\n",
    "heatmap = heatmap - np.min(heatmap)\n",
    "heatmap_img = heatmap / np.max(heatmap)\n",
    "heatmap_img = np.uint8(255 * heatmap_img)\n",
    "\n",
    "# draw the heatmap\n",
    "plt.matshow(heatmap_img)"
   ]
  },
  {
   "cell_type": "code",
   "execution_count": 11,
   "id": "b3db02f4-fc29-4602-bfc0-c635625b77e4",
   "metadata": {
    "tags": []
   },
   "outputs": [
    {
     "data": {
      "text/plain": [
       "True"
      ]
     },
     "execution_count": 11,
     "metadata": {},
     "output_type": "execute_result"
    }
   ],
   "source": [
    "img = cv2.imread(readImg)\n",
    "height, width, _ = img.shape\n",
    "_heatmap = cv2.applyColorMap(cv2.resize(heatmap_img,(width, height)), cv2.COLORMAP_JET)\n",
    "result = _heatmap * 0.5 + img * 0.5\n",
    "\n",
    "cv2.imwrite(\"image_1.jpg\", result)"
   ]
  },
  {
   "cell_type": "code",
   "execution_count": null,
   "id": "66624f5e-40f0-4fde-92da-3152efb17e70",
   "metadata": {},
   "outputs": [],
   "source": []
  }
 ],
 "metadata": {
  "kernelspec": {
   "display_name": "Python 3 (ipykernel)",
   "language": "python",
   "name": "python3"
  },
  "language_info": {
   "codemirror_mode": {
    "name": "ipython",
    "version": 3
   },
   "file_extension": ".py",
   "mimetype": "text/x-python",
   "name": "python",
   "nbconvert_exporter": "python",
   "pygments_lexer": "ipython3",
   "version": "3.7.17"
  }
 },
 "nbformat": 4,
 "nbformat_minor": 5
}
